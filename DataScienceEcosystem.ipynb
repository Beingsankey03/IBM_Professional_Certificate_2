{
  "nbformat": 4,
  "nbformat_minor": 0,
  "metadata": {
    "colab": {
      "provenance": []
    },
    "kernelspec": {
      "name": "python3",
      "display_name": "Python 3"
    },
    "language_info": {
      "name": "python"
    }
  },
  "cells": [
    {
      "cell_type": "markdown",
      "source": [
        "Data Science Tools and Ecosystem"
      ],
      "metadata": {
        "id": "4ykYaCqNYNZx"
      }
    },
    {
      "cell_type": "markdown",
      "source": [
        "In this notebook, Data Science Tools and Ecosystem are summarized."
      ],
      "metadata": {
        "id": "hDtdoKiJZgVm"
      }
    },
    {
      "cell_type": "markdown",
      "source": [
        "**Objectives**\n",
        "\n",
        "\n",
        "*   List popular languages for Data Scientist\n",
        "*   List commonly used libraries used by Data Scientists\n",
        "\n",
        "*   List comonly used Data Science Tools\n",
        "\n",
        "\n",
        "\n"
      ],
      "metadata": {
        "id": "579fFh3jk1AS"
      }
    },
    {
      "cell_type": "markdown",
      "source": [
        "## Author\n",
        "SANKET NADARGI"
      ],
      "metadata": {
        "id": "5O-tn7FXmBpC"
      }
    },
    {
      "cell_type": "markdown",
      "source": [
        "Some of the popular languages that Data Scientists use are:"
      ],
      "metadata": {
        "id": "35oLzruxaN4f"
      }
    },
    {
      "cell_type": "markdown",
      "source": [
        "\n",
        "\n",
        "*   Python\n",
        "*   R\n",
        "\n",
        "*   SQL\n",
        "\n",
        "\n",
        "\n",
        "\n",
        "\n",
        "\n"
      ],
      "metadata": {
        "id": "cXPpuIZ_aQTI"
      }
    },
    {
      "cell_type": "markdown",
      "source": [
        "Some of the commonly used libraries used by Data Scientists include:"
      ],
      "metadata": {
        "id": "8IJEsD9SbVWo"
      }
    },
    {
      "cell_type": "markdown",
      "source": [
        "\n",
        "\n",
        "*   pandas\n",
        "\n",
        "*   numpy\n",
        "\n",
        "*   seaborn\n",
        "*   matplotlib\n",
        "\n",
        "\n",
        "*   sckit-learn\n",
        "\n",
        "\n",
        "*   scipy\n",
        "\n",
        "*   pytorch\n",
        "\n",
        "\n"
      ],
      "metadata": {
        "id": "OGoNS3F7bWfy"
      }
    },
    {
      "cell_type": "markdown",
      "source": [
        "DATA SCIENNCE TOOLS"
      ],
      "metadata": {
        "id": "qrcXonVvgxy-"
      }
    },
    {
      "cell_type": "markdown",
      "source": [
        "\n",
        "\n",
        "*   SPYDER\n",
        "\n",
        "*   Visual Studio\n",
        "*   Google COlab\n",
        "\n",
        "\n",
        "*   Data Spell\n",
        "\n"
      ],
      "metadata": {
        "id": "PWdNoRtCcjm1"
      }
    },
    {
      "cell_type": "markdown",
      "source": [
        "### Below are a few examples of evaluating arithmetic expressions in Python"
      ],
      "metadata": {
        "id": "7YTBPwNThlSe"
      }
    },
    {
      "cell_type": "code",
      "source": [
        "\n",
        " #This a simple arithmetic expression to mutiply then add integers\n",
        " (3*4)+5"
      ],
      "metadata": {
        "colab": {
          "base_uri": "https://localhost:8080/"
        },
        "id": "XWn15VMiiL0l",
        "outputId": "abc424cb-dd21-4b25-91c8-2706d50d806a"
      },
      "execution_count": 3,
      "outputs": [
        {
          "output_type": "execute_result",
          "data": {
            "text/plain": [
              "17"
            ]
          },
          "metadata": {},
          "execution_count": 3
        }
      ]
    },
    {
      "cell_type": "code",
      "source": [
        "#This will convert 200 minutes to hours by diving by 60\n",
        "min = int(200)\n",
        "h = min // 60\n",
        "m= min % 60\n",
        "print(\"Hours\",h)\n",
        "print(\"Minutes\",m)"
      ],
      "metadata": {
        "colab": {
          "base_uri": "https://localhost:8080/"
        },
        "id": "F4dCnV4BiiC3",
        "outputId": "56a305e0-0dee-4b4e-adfc-9d61666956a4"
      },
      "execution_count": 4,
      "outputs": [
        {
          "output_type": "stream",
          "name": "stdout",
          "text": [
            "Hours 3\n",
            "Minutes 20\n"
          ]
        }
      ]
    },
    {
      "cell_type": "code",
      "source": [],
      "metadata": {
        "id": "qQV_2CyMjSbv"
      },
      "execution_count": null,
      "outputs": []
    }
  ]
}